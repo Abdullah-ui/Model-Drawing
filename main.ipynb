{
 "cells": [
  {
   "cell_type": "code",
   "execution_count": 3,
   "id": "4f0d8232-7858-449d-b816-5b9fa65a8afa",
   "metadata": {},
   "outputs": [
    {
     "name": "stdout",
     "output_type": "stream",
     "text": [
      "Accuracy: 0.96\n"
     ]
    },
    {
     "data": {
      "text/plain": [
       "['pickle_files/model_class_balance.pkl']"
      ]
     },
     "execution_count": 3,
     "metadata": {},
     "output_type": "execute_result"
    }
   ],
   "source": [
    "import pandas as pd\n",
    "from sklearn.preprocessing import LabelEncoder, MinMaxScaler, StandardScaler\n",
    "from imblearn.over_sampling import SMOTE\n",
    "from sklearn.model_selection import train_test_split\n",
    "from sklearn.ensemble import RandomForestClassifier\n",
    "from sklearn.metrics import accuracy_score\n",
    "import sqlite3\n",
    "import joblib\n",
    "\n",
    "database_path = 'dataset/FPA_FOD_20170508.sqlite'\n",
    "connection = sqlite3.connect(database_path)\n",
    "data = pd.read_sql_query(\"SELECT * FROM Fires\", connection)\n",
    "data = data.sample(n=2000, random_state=42)\n",
    "\n",
    "def preprocess_data(data, target_col, numerical_cols):\n",
    "    X = data.drop(columns=[target_col])\n",
    "    y = data[target_col]\n",
    "    non_numeric_cols = X.select_dtypes(include=['object']).columns\n",
    "    \n",
    "    for col in non_numeric_cols:\n",
    "        le = LabelEncoder()\n",
    "        X[col] = X[col].fillna('')\n",
    "        X[col] = X[col].apply(lambda x: str(x).encode('ascii', 'ignore').decode('ascii'))\n",
    "        X[col] = le.fit_transform(X[col])\n",
    "    \n",
    "    X = X.fillna(0)\n",
    "    min_max_scaler = MinMaxScaler()\n",
    "    X[numerical_cols] = min_max_scaler.fit_transform(X[numerical_cols])\n",
    "    std_scaler = StandardScaler()\n",
    "    X[numerical_cols] = std_scaler.fit_transform(X[numerical_cols])\n",
    "    \n",
    "    smote = SMOTE(random_state=42)\n",
    "    X_balanced, y_balanced = smote.fit_resample(X, y)\n",
    "    \n",
    "    return train_test_split(X_balanced, y_balanced, test_size=0.2, random_state=42), X, y\n",
    "\n",
    "numerical_cols = ['DISCOVERY_DATE', 'DISCOVERY_DOY', 'CONT_DATE', 'CONT_DOY',\n",
    "                  'FIRE_SIZE', 'LATITUDE', 'LONGITUDE', 'OWNER_CODE']\n",
    "\n",
    "(X_train, X_test, y_train, y_test), X_original, y_original = preprocess_data(data, 'STAT_CAUSE_CODE', numerical_cols)\n",
    "classifier = RandomForestClassifier(random_state=42)\n",
    "classifier.fit(X_train, y_train)\n",
    "\n",
    "y_pred = classifier.predict(X_test)\n",
    "accuracy = accuracy_score(y_test, y_pred)\n",
    "print(f\"Accuracy: {accuracy:.2f}\")\n",
    "\n",
    "joblib.dump((X_original, y_original, y_test, y_pred), \"pickle_files/results_class_balance.pkl\")\n",
    "joblib.dump(classifier, \"pickle_files/model_class_balance.pkl\")"
   ]
  },
  {
   "cell_type": "code",
   "execution_count": 4,
   "id": "89f82531-3990-49f1-b76f-ee3d5867b503",
   "metadata": {},
   "outputs": [
    {
     "name": "stdout",
     "output_type": "stream",
     "text": [
      "Accuracy: 0.89\n"
     ]
    },
    {
     "data": {
      "text/plain": [
       "['pickle_files/model.pkl']"
      ]
     },
     "execution_count": 4,
     "metadata": {},
     "output_type": "execute_result"
    }
   ],
   "source": [
    "import pandas as pd\n",
    "from sklearn.preprocessing import LabelEncoder, MinMaxScaler, StandardScaler\n",
    "from imblearn.over_sampling import SMOTE\n",
    "from sklearn.model_selection import train_test_split\n",
    "from sklearn.ensemble import RandomForestClassifier\n",
    "from sklearn.metrics import accuracy_score\n",
    "import sqlite3\n",
    "import joblib\n",
    "\n",
    "database_path = 'dataset/FPA_FOD_20170508.sqlite'\n",
    "connection = sqlite3.connect(database_path)\n",
    "data = pd.read_sql_query(\"SELECT * FROM Fires\", connection)\n",
    "data = data.sample(n=2000, random_state=42)\n",
    "\n",
    "def preprocess_data(data, target_col, numerical_cols):\n",
    "    X = data.drop(columns=[target_col])\n",
    "    y = data[target_col]\n",
    "    non_numeric_cols = X.select_dtypes(include=['object']).columns\n",
    "    \n",
    "    for col in non_numeric_cols:\n",
    "        le = LabelEncoder()\n",
    "        X[col] = X[col].fillna('')\n",
    "        X[col] = X[col].apply(lambda x: str(x).encode('ascii', 'ignore').decode('ascii'))\n",
    "        X[col] = le.fit_transform(X[col])\n",
    "    \n",
    "    X = X.fillna(0)\n",
    "    min_max_scaler = MinMaxScaler()\n",
    "    X[numerical_cols] = min_max_scaler.fit_transform(X[numerical_cols])\n",
    "    std_scaler = StandardScaler()\n",
    "    X[numerical_cols] = std_scaler.fit_transform(X[numerical_cols])\n",
    "    \n",
    "    \n",
    "    return train_test_split(X, y, test_size=0.2, random_state=42), X, y\n",
    "\n",
    "numerical_cols = ['DISCOVERY_DATE', 'DISCOVERY_DOY', 'CONT_DATE', 'CONT_DOY',\n",
    "                  'FIRE_SIZE', 'LATITUDE', 'LONGITUDE', 'OWNER_CODE']\n",
    "\n",
    "(X_train, X_test, y_train, y_test), X_original, y_original = preprocess_data(data, 'STAT_CAUSE_CODE', numerical_cols)\n",
    "classifier = RandomForestClassifier(random_state=42)\n",
    "classifier.fit(X_train, y_train)\n",
    "\n",
    "y_pred = classifier.predict(X_test)\n",
    "accuracy = accuracy_score(y_test, y_pred)\n",
    "print(f\"Accuracy: {accuracy:.2f}\")\n",
    "\n",
    "joblib.dump((X_original, y_original, y_test, y_pred), \"pickle_files/results.pkl\")\n",
    "joblib.dump(classifier, \"pickle_files/model.pkl\")"
   ]
  }
 ],
 "metadata": {
  "kernelspec": {
   "display_name": "analys_visu_env",
   "language": "python",
   "name": "python3"
  },
  "language_info": {
   "codemirror_mode": {
    "name": "ipython",
    "version": 3
   },
   "file_extension": ".py",
   "mimetype": "text/x-python",
   "name": "python",
   "nbconvert_exporter": "python",
   "pygments_lexer": "ipython3",
   "version": "3.12.3"
  }
 },
 "nbformat": 4,
 "nbformat_minor": 5
}
