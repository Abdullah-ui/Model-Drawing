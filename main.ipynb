{
 "cells": [
  {
   "cell_type": "code",
   "execution_count": 1,
   "metadata": {},
   "outputs": [],
   "source": [
    "import sqlite3\n",
    "import pandas as pd"
   ]
  },
  {
   "cell_type": "code",
   "execution_count": 2,
   "metadata": {},
   "outputs": [
    {
     "name": "stdout",
     "output_type": "stream",
     "text": [
      "Could not drop table sqlite_sequence: table sqlite_sequence may not be dropped\n",
      "Could not drop table SpatialIndex: no such module: VirtualSpatialIndex\n",
      "Could not drop table ElementaryGeometries: no such module: VirtualElementary\n",
      "Could not drop table KNN: no such module: VirtualKNN\n",
      "\n",
      "Remaining tables in the database:\n",
      "sqlite_sequence\n",
      "SpatialIndex\n",
      "ElementaryGeometries\n",
      "KNN\n",
      "Fires\n",
      "NWCG_UnitIDActive_20170109\n"
     ]
    }
   ],
   "source": [
    "# Connect to the SQLite database\n",
    "connection = sqlite3.connect(\"dataset/FPA_FOD_20170508.sqlite\")\n",
    "\n",
    "query = \"SELECT name FROM sqlite_master WHERE type='table';\"\n",
    "tables = connection.execute(query).fetchall()\n",
    "tables_to_keep = {\"NWCG_UnitIDActive_20170109\", \"Fires\"}\n",
    "\n",
    "for table in tables:\n",
    "    table_name = table[0]\n",
    "    if table_name not in tables_to_keep:\n",
    "        try:\n",
    "            drop_query = f\"DROP TABLE {table_name};\"\n",
    "            connection.execute(drop_query)\n",
    "            connection.commit()\n",
    "        except Exception as e:\n",
    "            print(f\"Could not drop table {table_name}: {e}\")\n",
    "\n",
    "# Verify remaining tables\n",
    "remaining_tables = connection.execute(query).fetchall()\n",
    "\n",
    "print(\"\\nRemaining tables in the database:\")\n",
    "for table in remaining_tables:\n",
    "    print(table[0])"
   ]
  },
  {
   "cell_type": "code",
   "execution_count": 48,
   "metadata": {},
   "outputs": [
    {
     "name": "stdout",
     "output_type": "stream",
     "text": [
      "<class 'pandas.core.frame.DataFrame'>\n",
      "RangeIndex: 1880465 entries, 0 to 1880464\n",
      "Data columns (total 39 columns):\n",
      " #   Column                      Dtype  \n",
      "---  ------                      -----  \n",
      " 0   OBJECTID                    int64  \n",
      " 1   FOD_ID                      int64  \n",
      " 2   FPA_ID                      object \n",
      " 3   SOURCE_SYSTEM_TYPE          object \n",
      " 4   SOURCE_SYSTEM               object \n",
      " 5   NWCG_REPORTING_AGENCY       object \n",
      " 6   NWCG_REPORTING_UNIT_ID      object \n",
      " 7   NWCG_REPORTING_UNIT_NAME    object \n",
      " 8   SOURCE_REPORTING_UNIT       object \n",
      " 9   SOURCE_REPORTING_UNIT_NAME  object \n",
      " 10  LOCAL_FIRE_REPORT_ID        object \n",
      " 11  LOCAL_INCIDENT_ID           object \n",
      " 12  FIRE_CODE                   object \n",
      " 13  FIRE_NAME                   object \n",
      " 14  ICS_209_INCIDENT_NUMBER     object \n",
      " 15  ICS_209_NAME                object \n",
      " 16  MTBS_ID                     object \n",
      " 17  MTBS_FIRE_NAME              object \n",
      " 18  COMPLEX_NAME                object \n",
      " 19  FIRE_YEAR                   int64  \n",
      " 20  DISCOVERY_DATE              float64\n",
      " 21  DISCOVERY_DOY               int64  \n",
      " 22  DISCOVERY_TIME              object \n",
      " 23  STAT_CAUSE_CODE             float64\n",
      " 24  STAT_CAUSE_DESCR            object \n",
      " 25  CONT_DATE                   float64\n",
      " 26  CONT_DOY                    float64\n",
      " 27  CONT_TIME                   object \n",
      " 28  FIRE_SIZE                   float64\n",
      " 29  FIRE_SIZE_CLASS             object \n",
      " 30  LATITUDE                    float64\n",
      " 31  LONGITUDE                   float64\n",
      " 32  OWNER_CODE                  float64\n",
      " 33  OWNER_DESCR                 object \n",
      " 34  STATE                       object \n",
      " 35  COUNTY                      object \n",
      " 36  FIPS_CODE                   object \n",
      " 37  FIPS_NAME                   object \n",
      " 38  Shape                       object \n",
      "dtypes: float64(8), int64(4), object(27)\n",
      "memory usage: 559.5+ MB\n"
     ]
    }
   ],
   "source": [
    "df_1 = pd.read_sql(\"SELECT * FROM Fires\", con=connection); \n",
    "df_1.info()"
   ]
  },
  {
   "cell_type": "code",
   "execution_count": 3,
   "metadata": {},
   "outputs": [
    {
     "name": "stdout",
     "output_type": "stream",
     "text": [
      "<class 'pandas.core.frame.DataFrame'>\n",
      "RangeIndex: 5867 entries, 0 to 5866\n",
      "Data columns (total 13 columns):\n",
      " #   Column          Non-Null Count  Dtype \n",
      "---  ------          --------------  ----- \n",
      " 0   OBJECTID        5867 non-null   int64 \n",
      " 1   UnitId          5867 non-null   object\n",
      " 2   GeographicArea  5867 non-null   object\n",
      " 3   Gacc            5867 non-null   object\n",
      " 4   WildlandRole    5867 non-null   object\n",
      " 5   UnitType        5867 non-null   object\n",
      " 6   Department      5517 non-null   object\n",
      " 7   Agency          5469 non-null   object\n",
      " 8   Parent          0 non-null      object\n",
      " 9   Country         5867 non-null   object\n",
      " 10  State           5867 non-null   object\n",
      " 11  Code            5867 non-null   object\n",
      " 12  Name            5867 non-null   object\n",
      "dtypes: int64(1), object(12)\n",
      "memory usage: 596.0+ KB\n"
     ]
    }
   ],
   "source": [
    "df_2 = pd.read_sql(\"SELECT * FROM NWCG_UnitIDActive_20170109\", con=connection); \n",
    "df_2.info()"
   ]
  }
 ],
 "metadata": {
  "kernelspec": {
   "display_name": "analys_visu_env",
   "language": "python",
   "name": "python3"
  },
  "language_info": {
   "codemirror_mode": {
    "name": "ipython",
    "version": 3
   },
   "file_extension": ".py",
   "mimetype": "text/x-python",
   "name": "python",
   "nbconvert_exporter": "python",
   "pygments_lexer": "ipython3",
   "version": "3.12.3"
  }
 },
 "nbformat": 4,
 "nbformat_minor": 2
}
